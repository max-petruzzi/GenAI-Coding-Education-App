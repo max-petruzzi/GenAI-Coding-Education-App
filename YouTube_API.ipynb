{
 "cells": [
  {
   "cell_type": "code",
   "execution_count": 14,
   "metadata": {},
   "outputs": [],
   "source": [
    "from youtube_transcript_api import YouTubeTranscriptApi\n",
    "from youtube_transcript_api.formatters import TextFormatter\n",
    "import openai\n",
    "from dotenv import load_dotenv\n",
    "import os\n",
    "load_dotenv()\n",
    "openai.api_key = os.getenv(\"OPENAI_API_KEY\")"
   ]
  },
  {
   "cell_type": "code",
   "execution_count": 16,
   "metadata": {},
   "outputs": [],
   "source": [
    "# YouTube ID of the video to analyze\n",
    "id = \"PERlPmNPKTE\""
   ]
  },
  {
   "cell_type": "code",
   "execution_count": 17,
   "metadata": {},
   "outputs": [],
   "source": [
    "transcript = YouTubeTranscriptApi.get_transcript(id)"
   ]
  },
  {
   "cell_type": "code",
   "execution_count": 18,
   "metadata": {},
   "outputs": [
    {
     "data": {
      "text/plain": [
       "[{'text': '[MUSIC]', 'start': 0.0, 'duration': 9.299},\n",
       " {'text': 'Hello, world.', 'start': 9.299, 'duration': 1.306},\n",
       " {'text': \"My name is Richard,\\nI'm an instructor at Treehouse,\",\n",
       "  'start': 10.605,\n",
       "  'duration': 3.344},\n",
       " {'text': 'and my background is computer science.',\n",
       "  'start': 13.949,\n",
       "  'duration': 2.483},\n",
       " {'text': 'Your first question might be,\\nwhat exactly is computer science?',\n",
       "  'start': 16.432,\n",
       "  'duration': 4.328},\n",
       " {'text': 'Is it the science of\\nworking with computers?',\n",
       "  'start': 20.76,\n",
       "  'duration': 2.08},\n",
       " {'text': \"Well, there's no set definition.\",\n",
       "  'start': 23.87,\n",
       "  'duration': 2.58},\n",
       " {'text': 'It seems that every major university and',\n",
       "  'start': 26.45,\n",
       "  'duration': 2.327},\n",
       " {'text': 'computing organization\\nhas their own take on it.',\n",
       "  'start': 28.777,\n",
       "  'duration': 2.883},\n",
       " {'text': 'To help us define computer science,',\n",
       "  'start': 32.7,\n",
       "  'duration': 2.388},\n",
       " {'text': 'consider the Oscar nominated film\\nHidden Figures released in 2016.',\n",
       "  'start': 35.088,\n",
       "  'duration': 5.602},\n",
       " {'text': 'It was the true story of Black women who\\nare hired at NASA to perform complex',\n",
       "  'start': 40.69,\n",
       "  'duration': 4.974},\n",
       " {'text': 'mathematical calculations for\\nupcoming space missions.',\n",
       "  'start': 45.664,\n",
       "  'duration': 4.029},\n",
       " {'text': 'Their job title, computers.', 'start': 49.693, 'duration': 3.682},\n",
       " {'text': \"So the term computer science doesn't\\nnecessarily refer to this machine we call\",\n",
       "  'start': 53.375,\n",
       "  'duration': 4.789},\n",
       " {'text': 'a computer, because the term existed long\\nbefore computers were widely available.',\n",
       "  'start': 58.164,\n",
       "  'duration': 5.157},\n",
       " {'text': 'In fact, Edsger Dijkstra,', 'start': 63.321, 'duration': 1.817},\n",
       " {'text': 'an influential figure in the early days of\\nthe discipline, once stated that computer',\n",
       "  'start': 65.138,\n",
       "  'duration': 5.454},\n",
       " {'text': 'science is no more about computers\\nthan astronomy is about telescopes.',\n",
       "  'start': 70.592,\n",
       "  'duration': 4.638},\n",
       " {'text': 'It has been argued that a more appropriate\\nterm might be computing science,',\n",
       "  'start': 77.01,\n",
       "  'duration': 5.095},\n",
       " {'text': 'although most of the work in the modern\\nage is done for and by computers.',\n",
       "  'start': 82.105,\n",
       "  'duration': 4.793},\n",
       " {'text': \"So here's our definition.\", 'start': 89.539, 'duration': 2.251},\n",
       " {'text': 'Computer science is the study and\\ndesign of algorithms,',\n",
       "  'start': 91.79,\n",
       "  'duration': 4.015},\n",
       " {'text': 'computations, and information systems,\\nin both theory and',\n",
       "  'start': 95.805,\n",
       "  'duration': 4.35},\n",
       " {'text': 'practice, typically with\\nthe aid of computers.',\n",
       "  'start': 100.155,\n",
       "  'duration': 3.525},\n",
       " {'text': \"I know, that's a mouthful.\", 'start': 105.1, 'duration': 2.55},\n",
       " {'text': 'As we move forward, we will provide more',\n",
       "  'start': 107.65,\n",
       "  'duration': 2.62},\n",
       " {'text': 'understanding of the term computer\\nscience as you begin this new journey.',\n",
       "  'start': 110.27,\n",
       "  'duration': 4.864},\n",
       " {'text': 'Just like telescopes are tools\\nin the study of astronomy,',\n",
       "  'start': 115.134,\n",
       "  'duration': 3.946},\n",
       " {'text': 'computers are tools in computer science.',\n",
       "  'start': 119.08,\n",
       "  'duration': 2.91},\n",
       " {'text': 'In the next video, we will unpack\\nthe history of computers and the Internet.',\n",
       "  'start': 123.25,\n",
       "  'duration': 4.9},\n",
       " {'text': 'See you there.', 'start': 128.15, 'duration': 0.5}]"
      ]
     },
     "execution_count": 18,
     "metadata": {},
     "output_type": "execute_result"
    }
   ],
   "source": [
    "transcript"
   ]
  },
  {
   "cell_type": "code",
   "execution_count": 19,
   "metadata": {},
   "outputs": [
    {
     "data": {
      "text/plain": [
       "[{'text': '[MUSIC]', 'start': 0.0, 'duration': 9.299},\n",
       " {'text': 'Hello, world.', 'start': 9.299, 'duration': 1.306},\n",
       " {'text': \"My name is Richard,\\nI'm an instructor at Treehouse,\",\n",
       "  'start': 10.605,\n",
       "  'duration': 3.344},\n",
       " {'text': 'and my background is computer science.',\n",
       "  'start': 13.949,\n",
       "  'duration': 2.483},\n",
       " {'text': 'Your first question might be,\\nwhat exactly is computer science?',\n",
       "  'start': 16.432,\n",
       "  'duration': 4.328},\n",
       " {'text': 'Is it the science of\\nworking with computers?',\n",
       "  'start': 20.76,\n",
       "  'duration': 2.08},\n",
       " {'text': \"Well, there's no set definition.\",\n",
       "  'start': 23.87,\n",
       "  'duration': 2.58},\n",
       " {'text': 'It seems that every major university and',\n",
       "  'start': 26.45,\n",
       "  'duration': 2.327},\n",
       " {'text': 'computing organization\\nhas their own take on it.',\n",
       "  'start': 28.777,\n",
       "  'duration': 2.883},\n",
       " {'text': 'To help us define computer science,',\n",
       "  'start': 32.7,\n",
       "  'duration': 2.388},\n",
       " {'text': 'consider the Oscar nominated film\\nHidden Figures released in 2016.',\n",
       "  'start': 35.088,\n",
       "  'duration': 5.602},\n",
       " {'text': 'It was the true story of Black women who\\nare hired at NASA to perform complex',\n",
       "  'start': 40.69,\n",
       "  'duration': 4.974},\n",
       " {'text': 'mathematical calculations for\\nupcoming space missions.',\n",
       "  'start': 45.664,\n",
       "  'duration': 4.029},\n",
       " {'text': 'Their job title, computers.', 'start': 49.693, 'duration': 3.682},\n",
       " {'text': \"So the term computer science doesn't\\nnecessarily refer to this machine we call\",\n",
       "  'start': 53.375,\n",
       "  'duration': 4.789},\n",
       " {'text': 'a computer, because the term existed long\\nbefore computers were widely available.',\n",
       "  'start': 58.164,\n",
       "  'duration': 5.157},\n",
       " {'text': 'In fact, Edsger Dijkstra,', 'start': 63.321, 'duration': 1.817},\n",
       " {'text': 'an influential figure in the early days of\\nthe discipline, once stated that computer',\n",
       "  'start': 65.138,\n",
       "  'duration': 5.454},\n",
       " {'text': 'science is no more about computers\\nthan astronomy is about telescopes.',\n",
       "  'start': 70.592,\n",
       "  'duration': 4.638},\n",
       " {'text': 'It has been argued that a more appropriate\\nterm might be computing science,',\n",
       "  'start': 77.01,\n",
       "  'duration': 5.095},\n",
       " {'text': 'although most of the work in the modern\\nage is done for and by computers.',\n",
       "  'start': 82.105,\n",
       "  'duration': 4.793},\n",
       " {'text': \"So here's our definition.\", 'start': 89.539, 'duration': 2.251},\n",
       " {'text': 'Computer science is the study and\\ndesign of algorithms,',\n",
       "  'start': 91.79,\n",
       "  'duration': 4.015},\n",
       " {'text': 'computations, and information systems,\\nin both theory and',\n",
       "  'start': 95.805,\n",
       "  'duration': 4.35},\n",
       " {'text': 'practice, typically with\\nthe aid of computers.',\n",
       "  'start': 100.155,\n",
       "  'duration': 3.525},\n",
       " {'text': \"I know, that's a mouthful.\", 'start': 105.1, 'duration': 2.55},\n",
       " {'text': 'As we move forward, we will provide more',\n",
       "  'start': 107.65,\n",
       "  'duration': 2.62},\n",
       " {'text': 'understanding of the term computer\\nscience as you begin this new journey.',\n",
       "  'start': 110.27,\n",
       "  'duration': 4.864},\n",
       " {'text': 'Just like telescopes are tools\\nin the study of astronomy,',\n",
       "  'start': 115.134,\n",
       "  'duration': 3.946},\n",
       " {'text': 'computers are tools in computer science.',\n",
       "  'start': 119.08,\n",
       "  'duration': 2.91},\n",
       " {'text': 'In the next video, we will unpack\\nthe history of computers and the Internet.',\n",
       "  'start': 123.25,\n",
       "  'duration': 4.9},\n",
       " {'text': 'See you there.', 'start': 128.15, 'duration': 0.5}]"
      ]
     },
     "execution_count": 19,
     "metadata": {},
     "output_type": "execute_result"
    }
   ],
   "source": [
    "transcript "
   ]
  },
  {
   "cell_type": "code",
   "execution_count": 20,
   "metadata": {},
   "outputs": [],
   "source": [
    "formatter = TextFormatter()"
   ]
  },
  {
   "cell_type": "code",
   "execution_count": 21,
   "metadata": {},
   "outputs": [
    {
     "data": {
      "text/plain": [
       "\"[MUSIC] Hello, world. My name is Richard, I'm an instructor at Treehouse, and my background is computer science. Your first question might be, what exactly is computer science? Is it the science of working with computers? Well, there's no set definition. It seems that every major university and computing organization has their own take on it. To help us define computer science, consider the Oscar nominated film Hidden Figures released in 2016. It was the true story of Black women who are hired at NASA to perform complex mathematical calculations for upcoming space missions. Their job title, computers. So the term computer science doesn't necessarily refer to this machine we call a computer, because the term existed long before computers were widely available. In fact, Edsger Dijkstra, an influential figure in the early days of the discipline, once stated that computer science is no more about computers than astronomy is about telescopes. It has been argued that a more appropriate term might be computing science, although most of the work in the modern age is done for and by computers. So here's our definition. Computer science is the study and design of algorithms, computations, and information systems, in both theory and practice, typically with the aid of computers. I know, that's a mouthful. As we move forward, we will provide more understanding of the term computer science as you begin this new journey. Just like telescopes are tools in the study of astronomy, computers are tools in computer science. In the next video, we will unpack the history of computers and the Internet. See you there.\""
      ]
     },
     "execution_count": 21,
     "metadata": {},
     "output_type": "execute_result"
    }
   ],
   "source": [
    "transcript_str = ' '.join(formatter.format_transcript(transcript).split(\"\\n\"))\n",
    "\n",
    "transcript_str"
   ]
  },
  {
   "cell_type": "code",
   "execution_count": 29,
   "metadata": {},
   "outputs": [],
   "source": [
    "response = openai.ChatCompletion.create(\n",
    "        model=\"gpt-3.5-turbo\",\n",
    "        messages=[\n",
    "            {\"role\": \"system\", \"content\": \"Analyze a YouTube video for hate speech, disinformation or harmful ideas. If present, provide reasons why they are wrong or harmful. Otherwise, provide a brief summary indicating the absence of any negative messages. Total response length should be 4 sentences or less.\"},\n",
    "            {\"role\": \"user\", \"content\": f'Transcript: {transcript_str}'}\n",
    "        ],\n",
    "        temperature = 0.8,\n",
    "        max_tokens = 120\n",
    "    )"
   ]
  },
  {
   "cell_type": "code",
   "execution_count": 30,
   "metadata": {},
   "outputs": [
    {
     "data": {
      "text/plain": [
       "<OpenAIObject chat.completion id=chatcmpl-7cgTBgSZCNsaQAVIhhQPnTBc8ypqq at 0x1190d2990> JSON: {\n",
       "  \"choices\": [\n",
       "    {\n",
       "      \"finish_reason\": \"stop\",\n",
       "      \"index\": 0,\n",
       "      \"message\": {\n",
       "        \"content\": \"This YouTube video does not contain any hate speech, disinformation, or harmful ideas. The video provides a brief introduction to computer science, explaining its definition and its connection to computers. The video also mentions the true story of Black women who worked as \\\"computers\\\" at NASA, highlighting the historical context of the term \\\"computer science.\\\" Overall, the video is informative and does not promote any negative messages.\",\n",
       "        \"role\": \"assistant\"\n",
       "      }\n",
       "    }\n",
       "  ],\n",
       "  \"created\": 1689454073,\n",
       "  \"id\": \"chatcmpl-7cgTBgSZCNsaQAVIhhQPnTBc8ypqq\",\n",
       "  \"model\": \"gpt-3.5-turbo-0613\",\n",
       "  \"object\": \"chat.completion\",\n",
       "  \"usage\": {\n",
       "    \"completion_tokens\": 81,\n",
       "    \"prompt_tokens\": 388,\n",
       "    \"total_tokens\": 469\n",
       "  }\n",
       "}"
      ]
     },
     "execution_count": 30,
     "metadata": {},
     "output_type": "execute_result"
    }
   ],
   "source": [
    "response"
   ]
  }
 ],
 "metadata": {
  "kernelspec": {
   "display_name": "McK_Hack",
   "language": "python",
   "name": "python3"
  },
  "language_info": {
   "codemirror_mode": {
    "name": "ipython",
    "version": 3
   },
   "file_extension": ".py",
   "mimetype": "text/x-python",
   "name": "python",
   "nbconvert_exporter": "python",
   "pygments_lexer": "ipython3",
   "version": "3.11.4"
  },
  "orig_nbformat": 4
 },
 "nbformat": 4,
 "nbformat_minor": 2
}

{
 "cells": [
  {
   "cell_type": "code",
   "execution_count": 213,
   "metadata": {},
   "outputs": [],
   "source": [
    "from youtube_transcript_api import YouTubeTranscriptApi\n",
    "from youtube_transcript_api.formatters import TextFormatter\n",
    "import openai\n",
    "from dotenv import load_dotenv\n",
    "import os\n",
    "load_dotenv()\n",
    "openai.api_key = os.getenv(\"OPENAI_API_KEY\")"
   ]
  },
  {
   "cell_type": "code",
   "execution_count": 214,
   "metadata": {},
   "outputs": [],
   "source": [
    "# YouTube ID of the video to analyze\n",
    "id = \"a8SQm4jGXHA\""
   ]
  },
  {
   "cell_type": "code",
   "execution_count": 215,
   "metadata": {},
   "outputs": [],
   "source": [
    "transcript = YouTubeTranscriptApi.get_transcript(id)"
   ]
  },
  {
   "cell_type": "code",
   "execution_count": 216,
   "metadata": {},
   "outputs": [
    {
     "data": {
      "text/plain": [
       "[{'text': \"hi I'm Max and this is my lesson on decision trees\\xa0\\ndecision trees are used for computers to make\\xa0\\xa0\",\n",
       "  'start': 0.0,\n",
       "  'duration': 5.94},\n",
       " {'text': 'decisions about the real world using data in this\\xa0\\ncase if a given animal is an elephant or not one\\xa0\\xa0',\n",
       "  'start': 5.94,\n",
       "  'duration': 6.18},\n",
       " {'text': 'represents a root node because it is at the top of\\xa0\\nthe diagram and it is the first question you ask\\xa0\\xa0',\n",
       "  'start': 12.12,\n",
       "  'duration': 4.5},\n",
       " {'text': 'in this case if the animal has a tail two is the\\xa0\\nbranch because you go left on the decision tree\\xa0\\xa0',\n",
       "  'start': 16.62,\n",
       "  'duration': 6.24},\n",
       " {'text': 'if animal has a tail and right if not three is a\\xa0\\ntrunk node because it is at the bottom of the tree\\xa0\\xa0',\n",
       "  'start': 22.86,\n",
       "  'duration': 6.12},\n",
       " {'text': 'four is a leaf node because data points that end\\xa0\\nup in the leaf after moving through the tree are\\xa0\\xa0',\n",
       "  'start': 30.42,\n",
       "  'duration': 5.16},\n",
       " {'text': 'classified as either an elephant or not in\\xa0\\nthis case they are classified as elephants',\n",
       "  'start': 35.58,\n",
       "  'duration': 3.96}]"
      ]
     },
     "execution_count": 216,
     "metadata": {},
     "output_type": "execute_result"
    }
   ],
   "source": [
    "transcript"
   ]
  },
  {
   "cell_type": "code",
   "execution_count": 217,
   "metadata": {},
   "outputs": [],
   "source": [
    "formatter = TextFormatter()"
   ]
  },
  {
   "cell_type": "code",
   "execution_count": 218,
   "metadata": {},
   "outputs": [],
   "source": [
    "transcript_str = ' '.join(formatter.format_transcript(transcript).split(\"\\n\"))"
   ]
  },
  {
   "cell_type": "code",
   "execution_count": 219,
   "metadata": {},
   "outputs": [
    {
     "data": {
      "text/plain": [
       "\"hi I'm Max and this is my lesson on decision trees\\xa0 decision trees are used for computers to make\\xa0\\xa0 decisions about the real world using data in this\\xa0 case if a given animal is an elephant or not one\\xa0\\xa0 represents a root node because it is at the top of\\xa0 the diagram and it is the first question you ask\\xa0\\xa0 in this case if the animal has a tail two is the\\xa0 branch because you go left on the decision tree\\xa0\\xa0 if animal has a tail and right if not three is a\\xa0 trunk node because it is at the bottom of the tree\\xa0\\xa0 four is a leaf node because data points that end\\xa0 up in the leaf after moving through the tree are\\xa0\\xa0 classified as either an elephant or not in\\xa0 this case they are classified as elephants\""
      ]
     },
     "execution_count": 219,
     "metadata": {},
     "output_type": "execute_result"
    }
   ],
   "source": [
    "transcript_str"
   ]
  },
  {
   "cell_type": "code",
   "execution_count": 220,
   "metadata": {},
   "outputs": [],
   "source": [
    "response = openai.ChatCompletion.create(\n",
    "        model=\"gpt-3.5-turbo\",\n",
    "        messages=[\n",
    "            {\"role\": \"system\", \"content\": \"I will present the text transcript of a YouTube video where a student is explaining the machine learning topic of decision trees. The student has a diagram of a decision tree with components labeled 1 through 4. The student will identify each of the components. However, the student might not be correct in their identification. Your job is to assess how accurately the student identifies each of the components. You should ignore punctuation and capitalization when deciding whether the student correctly identifies the component. The correct answers are as follows: 1 is a root node, 2 is a branch, 3 is a decision node, and 4 is a leaf node. Your output should only consist of one number which is the number of incorrectly identified components. No other text should be in the output.\"},\n",
    "            {\"role\": \"user\", \"content\": f'Transcript: {transcript_str}'}\n",
    "        ],\n",
    "        temperature = 0.0,\n",
    "        max_tokens = 120\n",
    "    )"
   ]
  },
  {
   "cell_type": "code",
   "execution_count": 221,
   "metadata": {},
   "outputs": [
    {
     "data": {
      "text/plain": [
       "'1'"
      ]
     },
     "execution_count": 221,
     "metadata": {},
     "output_type": "execute_result"
    }
   ],
   "source": [
    "answer = response['choices'][0]['message']['content']\n",
    "answer"
   ]
  },
  {
   "cell_type": "code",
   "execution_count": 222,
   "metadata": {},
   "outputs": [],
   "source": [
    "# find the first occurence of a number in a string\n",
    "def find_first_number(s):\n",
    "    for i, c in enumerate(s):\n",
    "        if c.isdigit():\n",
    "            return int(c)\n",
    "    return -1"
   ]
  },
  {
   "cell_type": "code",
   "execution_count": 223,
   "metadata": {},
   "outputs": [],
   "source": [
    "incorrect = find_first_number(answer)\n"
   ]
  },
  {
   "cell_type": "code",
   "execution_count": 224,
   "metadata": {},
   "outputs": [
    {
     "data": {
      "text/plain": [
       "1"
      ]
     },
     "execution_count": 224,
     "metadata": {},
     "output_type": "execute_result"
    }
   ],
   "source": [
    "incorrect"
   ]
  },
  {
   "cell_type": "code",
   "execution_count": 225,
   "metadata": {},
   "outputs": [],
   "source": [
    "response2 = openai.ChatCompletion.create(\n",
    "        model=\"gpt-3.5-turbo\",\n",
    "        messages=[\n",
    "            {\"role\": \"system\", \"content\": \"I will present the text transcript of a YouTube video where a student is explaining the machine learning topic of decision trees. The student has a diagram of a decision tree with components labeled 1 through 4. The student will identify each of the components. However, the student might not be correct in their identification. Your job is to determine how accurately the student identifies the components. You should ignore punctuation and capitalization when deciding whether the student correctly identifies the component. The correct answers are as follows: 1 is a root node, 2 is a branch, 3 is a decision node, and 4 is a leaf node. Which components were incorrectly identified?\"},\n",
    "            {\"role\": \"user\", \"content\": f'Transcript: {transcript_str}'}\n",
    "        ],\n",
    "        temperature = 0.0,\n",
    "        max_tokens = 120\n",
    "    )"
   ]
  },
  {
   "cell_type": "code",
   "execution_count": 226,
   "metadata": {},
   "outputs": [
    {
     "data": {
      "text/plain": [
       "'The student incorrectly identified component 3 as a \"trunk node\" instead of a \"decision node\".'"
      ]
     },
     "execution_count": 226,
     "metadata": {},
     "output_type": "execute_result"
    }
   ],
   "source": [
    "answer2 = response2['choices'][0]['message']['content']\n",
    "answer2"
   ]
  },
  {
   "cell_type": "code",
   "execution_count": null,
   "metadata": {},
   "outputs": [],
   "source": []
  }
 ],
 "metadata": {
  "kernelspec": {
   "display_name": "McK_Hack",
   "language": "python",
   "name": "python3"
  },
  "language_info": {
   "codemirror_mode": {
    "name": "ipython",
    "version": 3
   },
   "file_extension": ".py",
   "mimetype": "text/x-python",
   "name": "python",
   "nbconvert_exporter": "python",
   "pygments_lexer": "ipython3",
   "version": "3.11.4"
  },
  "orig_nbformat": 4
 },
 "nbformat": 4,
 "nbformat_minor": 2
}
